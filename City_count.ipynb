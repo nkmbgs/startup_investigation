{
 "cells": [
  {
   "cell_type": "code",
   "execution_count": 2,
   "metadata": {},
   "outputs": [
    {
     "name": "stdout",
     "output_type": "stream",
     "text": [
      "NCR 709\n",
      "Bangalore 635\n",
      "Mumbai 449\n"
     ]
    },
    {
     "data": {
      "image/png": "[encoded data removed]",
      "text/plain": [
       "<Figure size 432x288 with 1 Axes>"
      ]
     },
     "metadata": {
      "needs_background": "light"
     },
     "output_type": "display_data"
    }
   ],
   "source": [
    "import pandas as pd\n",
    "import numpy as np \n",
    "import matplotlib.pyplot as plt\n",
    "df=pd.read_csv('startup_funding.csv',encoding='utf-8')\n",
    "df['CityLocation'].fillna('0',inplace=True) \n",
    "def sepcity(city):\n",
    "    return city.split('/')[0].strip()\n",
    "df['CityLocation']=df['CityLocation'].apply(sepcity)\n",
    "df['CityLocation'].replace('bangalore','Bangalore',inplace=True)\n",
    "df['CityLocation'].replace('Delhi','NCR',inplace=True)\n",
    "df['CityLocation'].replace('New Delhi','NCR',inplace=True)\n",
    "df['CityLocation'].replace('Gurgaon','NCR',inplace=True)\n",
    "df['CityLocation'].replace('Noida','NCR',inplace=True)\n",
    "c_s=df['CityLocation'].value_counts()[0:3]\n",
    "city_startup=list(zip(c_s.index,c_s.values))\n",
    "city_start=np.array(city_startup)\n",
    "city=city_start[:,0]\n",
    "num=np.array(city_start[:,1],dtype=int)\n",
    "for i in range(len(city)):\n",
    "    print(city[i],num[i])\n",
    "plt.bar(city,num)\n",
    "plt.show()"
   ]
  }
 ],
 "metadata": {
  "kernelspec": {
   "display_name": "Python 3",
   "language": "python",
   "name": "python3"
  },
  "language_info": {
   "codemirror_mode": {
    "name": "ipython",
    "version": 3
   },
   "file_extension": ".py",
   "mimetype": "text/x-python",
   "name": "python",
   "nbconvert_exporter": "python",
   "pygments_lexer": "ipython3",
   "version": "3.7.1"
  }
 },
 "nbformat": 4,
 "nbformat_minor": 2
}
