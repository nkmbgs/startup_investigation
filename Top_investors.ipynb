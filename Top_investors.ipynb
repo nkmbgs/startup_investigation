{
 "cells": [
  {
   "cell_type": "code",
   "execution_count": 1,
   "metadata": {},
   "outputs": [
    {
     "name": "stdout",
     "output_type": "stream",
     "text": [
      "Sequoia Capital 52\n",
      "Accel Partners 44\n",
      "SAIF Partners 35\n",
      "Blume Ventures 35\n",
      "Kalaari Capital 32\n"
     ]
    }
   ],
   "source": [
    "import pandas as pd\n",
    "import numpy as np \n",
    "import matplotlib.pyplot as plt\n",
    "df=pd.read_csv('startup_funding.csv',encoding='utf-8')\n",
    "df['CityLocation'].fillna('0',inplace=True)\n",
    "def sepcity(city):\n",
    "    return city.split('/')[0].strip()\n",
    "df['CityLocation']=df['CityLocation'].apply(sepcity)\n",
    "df['CityLocation'].replace('bangalore','Bangalore',inplace=True)\n",
    "df['CityLocation'].replace('Delhi','NCR',inplace=True)\n",
    "df['CityLocation'].replace('New Delhi','NCR',inplace=True)\n",
    "df['CityLocation'].replace('Gurgaon','NCR',inplace=True)\n",
    "df['CityLocation'].replace('Noida','NCR',inplace=True)\n",
    "city=np.array(df['CityLocation'])\n",
    "df['InvestorsName'].fillna('0',inplace=True)\n",
    "investors=np.array(df['InvestorsName'])\n",
    "investors=investors[((city=='NCR')|(city=='Mumbai')|(city=='Bangalore'))]\n",
    "d={}\n",
    "for i in investors:\n",
    "    if not(i==''):\n",
    "        if ',' in i:\n",
    "            name1 = i.strip().split(',')\n",
    "            for j in name1:\n",
    "                if not(j==''):\n",
    "                    if j.strip() not in d:\n",
    "                        d[j.strip()]=1\n",
    "                    else:\n",
    "                        d[j.strip()]+=1\n",
    "        else:\n",
    "            if i not in d:\n",
    "                    d[i]=1\n",
    "            else:\n",
    "                    d[i]+=1\n",
    "df1=pd.DataFrame(list(d.values()),list(d.keys()))\n",
    "df1=df1.sort_values(by=[0],ascending=False)\n",
    "top_investor=df1.index[0:5]\n",
    "no_inv=df1.values[0:5]\n",
    "for i in range(5):\n",
    "    print(top_investor[i],int(no_inv[i]))"
   ]
  }
 ],
 "metadata": {
  "kernelspec": {
   "display_name": "Python 3",
   "language": "python",
   "name": "python3"
  },
  "language_info": {
   "codemirror_mode": {
    "name": "ipython",
    "version": 3
   },
   "file_extension": ".py",
   "mimetype": "text/x-python",
   "name": "python",
   "nbconvert_exporter": "python",
   "pygments_lexer": "ipython3",
   "version": "3.7.1"
  }
 },
 "nbformat": 4,
 "nbformat_minor": 2
}
