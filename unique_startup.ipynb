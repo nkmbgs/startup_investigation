{
 "cells": [
  {
   "cell_type": "code",
   "execution_count": 1,
   "metadata": {},
   "outputs": [
    {
     "name": "stdout",
     "output_type": "stream",
     "text": [
      "Sequoia Capital 28\n",
      "Accel Partners 27\n",
      "Indian Angel Network 25\n",
      "Kalaari Capital 22\n",
      "Ratan Tata 21\n"
     ]
    }
   ],
   "source": [
    "import pandas as pd\n",
    "import numpy as np \n",
    "import matplotlib.pyplot as plt\n",
    "df=pd.read_csv('startup_funding.csv',encoding='utf-8')\n",
    "df['StartupName'].replace('Ola Cabs','Ola',inplace=True)\n",
    "df['StartupName'].replace('Paytm Marketplace','Paytm',inplace=True)\n",
    "df['StartupName'].replace('Olacabs','Ola',inplace=True)\n",
    "df['StartupName'].replace('Flipkart.com','Flipkart',inplace=True)\n",
    "df['StartupName'].replace('Oyo Rooms','Oyo',inplace=True)\n",
    "df['StartupName'].replace('Oyorooms','Oyo',inplace=True)\n",
    "df['StartupName'].replace('OyoRooms','Oyo',inplace=True)\n",
    "df['StartupName'].replace('OYO Rooms','Oyo',inplace=True)\n",
    "df['StartupName'].fillna('0',inplace=True)\n",
    "startup=np.array(df['StartupName'])\n",
    "\n",
    "df['CityLocation'].fillna('0',inplace=True)\n",
    "def sepcity(city):\n",
    "    return city.split('/')[0].strip()\n",
    "df['CityLocation']=df['CityLocation'].apply(sepcity)\n",
    "df['CityLocation'].replace('bangalore','Bangalore',inplace=True)\n",
    "df['CityLocation'].replace('Delhi','NCR',inplace=True)\n",
    "df['CityLocation'].replace('New Delhi','NCR',inplace=True)\n",
    "df['CityLocation'].replace('Gurgaon','NCR',inplace=True)\n",
    "df['CityLocation'].replace('Noida','NCR',inplace=True)\n",
    "city=np.array(df['CityLocation'])\n",
    "df['CityLocation'].fillna('0',inplace=True)\n",
    "df['InvestorsName'].fillna('0',inplace=True)\n",
    "investors=np.array(df['InvestorsName'])\n",
    "startup=startup[((city=='NCR')|(city=='Mumbai')|(city=='Bangalore'))]\n",
    "investors=investors[((city=='NCR')|(city=='Mumbai')|(city=='Bangalore'))]\n",
    "\n",
    "d={}\n",
    "for i,j in zip(investors,startup):\n",
    "    if ',' in i:\n",
    "        name1=i.strip().split(',')\n",
    "        for k in name1:\n",
    "            if k != '':\n",
    "                if k not in d:\n",
    "                    d[k]=[j]\n",
    "                else:\n",
    "                    if j not in d[k]:\n",
    "                        d[k].append(j)\n",
    "    elif i !='Undisclosed Investors' and i !='Undisclosed investors':\n",
    "        if i not in d:\n",
    "            if i !='Undisclosed Investors':\n",
    "                d[i]=[j]\n",
    "        else:\n",
    "            if j not in d[i]:\n",
    "                d[i].append(j)\n",
    "d1={}\n",
    "for i in d:\n",
    "    d1[i]=len(d[i])\n",
    "df1=pd.DataFrame(list(d1.values()),list(d1.keys()))\n",
    "df1=df1.sort_values(by=[0],ascending=False)\n",
    "top_inv=df1.index[0:5]\n",
    "no_startup=df1.values[0:5]\n",
    "for i in range(5):\n",
    "    print(top_inv[i],int(no_startup[i]))"
   ]
  }
 ],
 "metadata": {
  "kernelspec": {
   "display_name": "Python 3",
   "language": "python",
   "name": "python3"
  },
  "language_info": {
   "codemirror_mode": {
    "name": "ipython",
    "version": 3
   },
   "file_extension": ".py",
   "mimetype": "text/x-python",
   "name": "python",
   "nbconvert_exporter": "python",
   "pygments_lexer": "ipython3",
   "version": "3.7.1"
  }
 },
 "nbformat": 4,
 "nbformat_minor": 2
}
